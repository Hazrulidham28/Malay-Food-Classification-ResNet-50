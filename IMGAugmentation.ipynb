{
 "cells": [
  {
   "cell_type": "code",
   "execution_count": 9,
   "id": "bbd8abd9-62ad-4e13-99e5-2a9d0fd86703",
   "metadata": {},
   "outputs": [],
   "source": [
    "import os\n",
    "from keras.preprocessing.image import ImageDataGenerator, load_img, img_to_array\n"
   ]
  },
  {
   "cell_type": "code",
   "execution_count": 17,
   "id": "fbebdf49-8af7-4ce9-8282-af504cb4159d",
   "metadata": {},
   "outputs": [],
   "source": [
    "# Path to the folder containing the original images\n",
    "original_folder_NL = 'DATASET/ORIGINAL/Nasi_lemak'\n",
    "original_folder_RC = 'DATASET/ORIGINAL/Roti_canai'\n",
    "original_folder_KP = 'DATASET/ORIGINAL/Karipap'\n"
   ]
  },
  {
   "cell_type": "code",
   "execution_count": 18,
   "id": "f563c369-e6b9-4078-885f-7c6a35522bdf",
   "metadata": {},
   "outputs": [],
   "source": [
    "# List all files in the original folder\n",
    "image_files = os.listdir(original_folder_NL)\n",
    "image_files_RC = os.listdir(original_folder_RC)\n",
    "image_files_KP = os.listdir(original_folder_KP)\n"
   ]
  },
  {
   "cell_type": "code",
   "execution_count": 19,
   "id": "aa766e1d-1bbf-4cab-bcfc-8982cd1b4726",
   "metadata": {},
   "outputs": [],
   "source": [
    "# Define the data augmentation parameters\n",
    "datagen = ImageDataGenerator(\n",
    "    rotation_range=26,  # for rotations between -13 and +13 degrees\n",
    "    shear_range=0.1745,  # 10 degrees in radians\n",
    "    horizontal_flip=True,\n",
    "    vertical_flip=True,\n",
    "    brightness_range=[0.25, 1.5]\n",
    ")\n"
   ]
  },
  {
   "cell_type": "code",
   "execution_count": 20,
   "id": "db7abe34-22a3-4860-9e7e-cc44860afeae",
   "metadata": {},
   "outputs": [],
   "source": [
    "# Path to the folder where augmented images will be saved\n",
    "augmented_folder_NL = 'DATASET/AUGMENTED_MULTISOURCE/Nasi_Lemak'\n",
    "augmented_folder_RC = 'DATASET/AUGMENTED_MULTISOURCE/Roti_canai'\n",
    "augmented_folder_KP = 'DATASET/AUGMENTED_MULTISOURCE/Karipap'\n"
   ]
  },
  {
   "cell_type": "code",
   "execution_count": 14,
   "id": "15d6f02f-3d13-4f16-b3dc-c785771c09f0",
   "metadata": {},
   "outputs": [],
   "source": [
    "\n",
    "# Loop through each image file and apply augmentation for nasi lemak\n",
    "for image_file in image_files:\n",
    "    # Load the image\n",
    "    img = load_img(os.path.join(original_folder_NL, image_file))\n",
    "    x = img_to_array(img)\n",
    "    x = x.reshape((1, ) + x.shape)\n",
    "# Generate and save augmented samples\n",
    "    i = 0\n",
    "    for batch in datagen.flow(x, batch_size=1, save_to_dir=augmented_folder_NL,\n",
    "                              save_prefix=image_file.split('.')[0] + '_Augmented', save_format='jpeg'):\n",
    "        i += 1\n",
    "        if i > 24:  # Generate augmented samples for each original image\n",
    "            break\n"
   ]
  },
  {
   "cell_type": "code",
   "execution_count": 15,
   "id": "0f49768a-bbd9-4caa-a713-c6bcdf6f8711",
   "metadata": {},
   "outputs": [],
   "source": [
    "# Loop through each image file and apply augmentation for roti canai\n",
    "for image_file in image_files_RC:\n",
    "     #Load the image\n",
    "    img = load_img(os.path.join(original_folder_RC, image_file))\n",
    "    x = img_to_array(img)\n",
    "    x = x.reshape((1, ) + x.shape)\n",
    "# Generate and save augmented samples\n",
    "    i = 0\n",
    "    for batch in datagen.flow(x, batch_size=1, save_to_dir=augmented_folder_RC,\n",
    "                              save_prefix=image_file.split('.')[0] + '_Augmented', save_format='jpeg'):\n",
    "        i += 1\n",
    "        if i > 20:  # Generate  augmented samples for each original image\n",
    "            break"
   ]
  },
  {
   "cell_type": "code",
   "execution_count": 21,
   "id": "ba74fdcb-ed3e-4595-ae0e-e19cc88a895e",
   "metadata": {},
   "outputs": [],
   "source": [
    "# # Loop through each image file and apply augmentation for roti canai\n",
    "for image_file in image_files_KP:\n",
    "     # Load the image\n",
    "     img = load_img(os.path.join(original_folder_KP, image_file))\n",
    "     x = img_to_array(img)\n",
    "     x = x.reshape((1, ) + x.shape)\n",
    "# # Generate and save augmented samples\n",
    "     i = 0\n",
    "     for batch in datagen.flow(x, batch_size=1, save_to_dir=augmented_folder_KP,\n",
    "                               save_prefix=image_file.split('.')[0] + '_Augmented', save_format='jpeg'):\n",
    "         i += 1\n",
    "         if i > 8:  # Generate 54 augmented samples for each original image\n",
    "             break"
   ]
  },
  {
   "cell_type": "code",
   "execution_count": null,
   "id": "990eba01-30c1-4893-a548-09d7e7b6391a",
   "metadata": {},
   "outputs": [],
   "source": []
  }
 ],
 "metadata": {
  "kernelspec": {
   "display_name": "Python 3 (ipykernel)",
   "language": "python",
   "name": "python3"
  },
  "language_info": {
   "codemirror_mode": {
    "name": "ipython",
    "version": 3
   },
   "file_extension": ".py",
   "mimetype": "text/x-python",
   "name": "python",
   "nbconvert_exporter": "python",
   "pygments_lexer": "ipython3",
   "version": "3.9.18"
  }
 },
 "nbformat": 4,
 "nbformat_minor": 5
}
